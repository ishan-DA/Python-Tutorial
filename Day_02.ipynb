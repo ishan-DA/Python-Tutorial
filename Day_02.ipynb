{
  "nbformat": 4,
  "nbformat_minor": 0,
  "metadata": {
    "colab": {
      "provenance": [],
      "authorship_tag": "ABX9TyMh0l9o/DF+P4pU+7qiwuTc",
      "include_colab_link": true
    },
    "kernelspec": {
      "name": "python3",
      "display_name": "Python 3"
    },
    "language_info": {
      "name": "python"
    }
  },
  "cells": [
    {
      "cell_type": "markdown",
      "metadata": {
        "id": "view-in-github",
        "colab_type": "text"
      },
      "source": [
        "<a href=\"https://colab.research.google.com/github/ishan-DA/Python-Tutorial/blob/main/Day_02.ipynb\" target=\"_parent\"><img src=\"https://colab.research.google.com/assets/colab-badge.svg\" alt=\"Open In Colab\"/></a>"
      ]
    },
    {
      "cell_type": "markdown",
      "source": [
        "## **Day 02 of Python**"
      ],
      "metadata": {
        "id": "BujON2PI4La8"
      }
    },
    {
      "cell_type": "markdown",
      "source": [
        "### Built in Functions:\n",
        "\n",
        "Built in functions are globally available for your use. Some of the most commonly used Python built-in functions are the following: **print(), len(), type(), int(), float(), str(), input(), list(), dict(), min(), max(), sum(), sorted(), open(), file() and help().**  "
      ],
      "metadata": {
        "id": "RUyyuYnF5f71"
      }
    },
    {
      "cell_type": "markdown",
      "source": [
        "### Variables:\n",
        "\n",
        "A variable refers to a memory address in which data is stored. A variable can have a short name but a more descriptive name is highly recommeneded.\n",
        "\n",
        "**Rules for naming a variable:**\n",
        "  * variable name must start with an alphabet;\n",
        "  * variables are case-sensitive (name and Name are 2 different variables);\n",
        "  * variable name can only contain alpha-numeric characters and underscores;\n",
        "  * if we want to use a reserved word as a variable then we have to put underscore before variable name;"
      ],
      "metadata": {
        "id": "TKDOaIk26PQD"
      }
    },
    {
      "cell_type": "code",
      "source": [
        "# Variables in Python\n",
        "\n",
        "first_name = 'Ishan'\n",
        "last_name = 'Chaurasia'\n",
        "country = 'India'\n",
        "city = 'New Delhi'\n",
        "age = 28\n",
        "skills = ['MS Excel', 'SQL', 'Python', 'Power BI']\n",
        "person_info = {\n",
        "   'firstname':'Ishan',\n",
        "   'lastname':'Chaurasia',\n",
        "   'country':'India',\n",
        "   'city':'New Delhi'\n",
        "   }"
      ],
      "metadata": {
        "id": "LXLrwg1j76wK"
      },
      "execution_count": 4,
      "outputs": []
    },
    {
      "cell_type": "code",
      "source": [
        "# Printing the values stored in the variables\n",
        "\n",
        "print('First name:', first_name)\n",
        "print('First name length:', len(first_name))\n",
        "print('Last name: ', last_name)\n",
        "print('Last name length: ', len(last_name))\n",
        "print('Country: ', country)\n",
        "print('City: ', city)\n",
        "print('Age: ', age)\n",
        "print('Skills: ', skills)\n",
        "print('Person information: ', person_info)"
      ],
      "metadata": {
        "id": "_armLbGP8_MC"
      },
      "execution_count": null,
      "outputs": []
    },
    {
      "cell_type": "code",
      "source": [
        "# Declaring multiple variable in a line\n",
        "\n",
        "first_name, last_name, age = 'Ishan', 'Chaurasia', 28\n",
        "print(first_name, last_name, age)\n",
        "print('First Name:', first_name)\n",
        "print('Last Name:', last_name)\n",
        "print('Age:', age)"
      ],
      "metadata": {
        "id": "fEjHYwJV9fuI"
      },
      "execution_count": null,
      "outputs": []
    },
    {
      "cell_type": "markdown",
      "source": [
        "### Input and Format Functions:"
      ],
      "metadata": {
        "id": "qDJWSUHo_0Y8"
      }
    },
    {
      "cell_type": "code",
      "source": [
        "first_name  = input('What is your name? ')\n",
        "age = input('Enter you age: ')\n",
        "\n",
        "print(f\"{first_name} is {age} years old.\")\n",
        "\n",
        "# The format() function works by replacing placeholders in a string with values that you pass as arguments."
      ],
      "metadata": {
        "id": "-VZOR3y0-TAN"
      },
      "execution_count": null,
      "outputs": []
    },
    {
      "cell_type": "markdown",
      "source": [
        "### Casting:\n",
        "\n",
        "Converting one data type to another data type. We use **int(), float(), str(), list, set** when doing arithmetic operations string numbers should be first converted to int or float otherise it will return an error. If we concatenate a number with a string the number should be first converted to a string.  "
      ],
      "metadata": {
        "id": "5KN1sKO6_riZ"
      }
    },
    {
      "cell_type": "code",
      "source": [
        "# int to float\n",
        "\n",
        "num = 10\n",
        "print(num)            # int = 10\n",
        "print(float(num))     # float = 10.0\n",
        "\n",
        "# float to int\n",
        "\n",
        "num = 69.69\n",
        "print(num)            # float = 69.69\n",
        "print(int(num))       # int = 69\n",
        "\n",
        "# int to str\n",
        "\n",
        "num = 190794\n",
        "print(num)\n",
        "print(str(num))\n",
        "\n",
        "# str to int/float\n",
        "\n",
        "string = '11'\n",
        "print(string)\n",
        "print(int(string))\n",
        "print(float(string))\n",
        "\n",
        "# str to list\n",
        "\n",
        "fname = 'Ishan'\n",
        "print(fname)\n",
        "fname_list = list(fname)\n",
        "print(fname_list)\n",
        "fname_tuple = tuple(fname)\n",
        "print(fname_tuple)"
      ],
      "metadata": {
        "id": "EctdskGv-z2C"
      },
      "execution_count": null,
      "outputs": []
    },
    {
      "cell_type": "markdown",
      "source": [
        "______________________________________________________________________"
      ],
      "metadata": {
        "id": "brZ0oMbLJdD_"
      }
    },
    {
      "cell_type": "markdown",
      "source": [
        "### **Exercise**\n",
        "\n",
        "Q1. Using the len() built-in function, find the length of your first name.\n",
        "\n",
        "Q2. Use the built-in input function to get first name, last name, country and age from a user and store the value to their corresponding variable names.\n",
        "\n",
        "Q3. The radius of a circle is 30 meters.\n",
        "\n",
        "  i. Calculate the area of a circle and assign the value to a variable name of **area_of_circle**\n",
        "\n",
        "  ii. Calculate the circumference of a circle and assign the value to a variable name of **circum_of_circle**\n",
        "\n",
        "  iii. Take radius as user input and calculate the area."
      ],
      "metadata": {
        "id": "3Z_h3z9NJl37"
      }
    },
    {
      "cell_type": "code",
      "source": [
        "# Q1.\n",
        "\n",
        "fname = 'Ishan'\n",
        "print(fname,':', len(fname))"
      ],
      "metadata": {
        "colab": {
          "base_uri": "https://localhost:8080/"
        },
        "id": "OlNOx9jlBlEt",
        "outputId": "f6ad2642-4dbc-4fb6-bd8e-26bedafa8768"
      },
      "execution_count": 39,
      "outputs": [
        {
          "output_type": "stream",
          "name": "stdout",
          "text": [
            "Ishan : 5\n"
          ]
        }
      ]
    },
    {
      "cell_type": "code",
      "source": [
        "# Q2.\n",
        "\n",
        "fname = input('Enter your First Name: ')\n",
        "lname = input('Enter your Last Name: ')\n",
        "age = input('Enter your Age: ')\n",
        "country = input('Enter your Country: ')\n",
        "\n",
        "print (fname.capitalize(), lname.capitalize())\n",
        "print(age)\n",
        "print(country.capitalize())"
      ],
      "metadata": {
        "colab": {
          "base_uri": "https://localhost:8080/"
        },
        "id": "e5AeuSjFLSfW",
        "outputId": "0d5fe402-40b4-40a2-8468-6cf9f0ab1d8c"
      },
      "execution_count": 37,
      "outputs": [
        {
          "output_type": "stream",
          "name": "stdout",
          "text": [
            "Enter your First Name: ishan\n",
            "Enter your Last Name: chaurasia\n",
            "Enter your Age: 28\n",
            "Enter your Country: india\n",
            "Ishan Chaurasia\n",
            "28\n",
            "India\n"
          ]
        }
      ]
    },
    {
      "cell_type": "code",
      "source": [
        "# Q3\n",
        "\n",
        "'''\n",
        "  i. Formula of Area of cicle:  A = πr^2\n",
        "  where A is area of circle, 'r' is the radius and π is 3.14.\n",
        "'''\n",
        "\n",
        "radius = 30\n",
        "pie = 3.14\n",
        "area_of_circle = pie * 30**2\n",
        "print(f\"Area of circle: {area_of_circle}\")\n",
        "\n",
        "'''\n",
        "  ii. Formula for calculating Circumference of Circle: C = 2πr\n",
        "  where C is circumferece.\n",
        "'''\n",
        "\n",
        "circum_of_circle = 2 * pie * radius\n",
        "print(f\"Circumferece of Circle: {circum_of_circle}\")\n",
        "\n",
        "'''\n",
        "  iii. Take radius as input from the user.\n",
        "'''\n",
        "\n",
        "rad = input('Enter Radius: ')\n",
        "pie = 3.14\n",
        "area_of_circle = pie * int(rad)**2\n",
        "print(f\"Area of circle: {area_of_circle}\")"
      ],
      "metadata": {
        "colab": {
          "base_uri": "https://localhost:8080/"
        },
        "id": "tTnQIyXLOV0a",
        "outputId": "b42a0c2c-aa6f-4fbf-ea09-88134c2d1b8a"
      },
      "execution_count": 44,
      "outputs": [
        {
          "output_type": "stream",
          "name": "stdout",
          "text": [
            "Area of circle: 2826.0\n",
            "Circumferece of Circle: 188.4\n",
            "Enter Radius: 20\n",
            "Area of circle: 1256.0\n"
          ]
        }
      ]
    }
  ]
}