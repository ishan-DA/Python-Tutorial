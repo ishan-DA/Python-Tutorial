{
  "nbformat": 4,
  "nbformat_minor": 0,
  "metadata": {
    "colab": {
      "provenance": [],
      "authorship_tag": "ABX9TyP7SyOfQqeMCaSlGDqLo2NH",
      "include_colab_link": true
    },
    "kernelspec": {
      "name": "python3",
      "display_name": "Python 3"
    },
    "language_info": {
      "name": "python"
    }
  },
  "cells": [
    {
      "cell_type": "markdown",
      "metadata": {
        "id": "view-in-github",
        "colab_type": "text"
      },
      "source": [
        "<a href=\"https://colab.research.google.com/github/ishan-DA/Python-Tutorial/blob/main/Day_04.ipynb\" target=\"_parent\"><img src=\"https://colab.research.google.com/assets/colab-badge.svg\" alt=\"Open In Colab\"/></a>"
      ]
    },
    {
      "cell_type": "markdown",
      "source": [
        "### **Strings**"
      ],
      "metadata": {
        "id": "XUmPyf01vbB4"
      }
    },
    {
      "cell_type": "markdown",
      "source": [
        "Text is a string data type. Any data type written as text is a string. Any data whether under single, double or triple quotes are strings."
      ],
      "metadata": {
        "id": "oD1yy2VexrjN"
      }
    },
    {
      "cell_type": "code",
      "execution_count": null,
      "metadata": {
        "id": "boyXS4_Xuug5"
      },
      "outputs": [],
      "source": [
        "name = 'ishan'\n",
        "print(name)\n",
        "print(len(name))\n",
        "sentence = \"This is my Python tutorial.\"\n",
        "print(sentence)"
      ]
    },
    {
      "cell_type": "code",
      "source": [
        "# Multi-line string is created using single or double triple quotes.\n",
        "\n",
        "mul_str = '''This is a\n",
        "          multiline string\n",
        "          in Python'''"
      ],
      "metadata": {
        "id": "gLOY7pzXyMP7"
      },
      "execution_count": null,
      "outputs": []
    },
    {
      "cell_type": "markdown",
      "source": [
        "### String Concatenation\n",
        "\n",
        "Merging or joining 2 or more strings is called concatenation."
      ],
      "metadata": {
        "id": "YF1X3TCzzvBb"
      }
    },
    {
      "cell_type": "code",
      "source": [
        "fname = 'ishan'\n",
        "lname = 'chaurasia'\n",
        "full_name = fname + \" \" + lname\n",
        "print(full_name)\n",
        "print(len(full_name))"
      ],
      "metadata": {
        "id": "v_1X-2QX1t60"
      },
      "execution_count": null,
      "outputs": []
    },
    {
      "cell_type": "markdown",
      "source": [
        "### Escape Sequence in Strings\n",
        "\n",
        "In Python and other programming languages '\\' follower by character is an escape sequence.\n",
        "\n",
        "* \\n: new line\n",
        "* \\t: tab (space)\n",
        "* \\\\\\\\: back slash\n",
        "* \\\\': single quote\n",
        "* \\\\\": double quote"
      ],
      "metadata": {
        "id": "ESw6V1PC2rPZ"
      }
    },
    {
      "cell_type": "code",
      "source": [
        "print(\"It's a lovely day. \\nIsn't it?\")\n",
        "print(\"In every programming language, first program is \\\"Hello World!\\\"\")"
      ],
      "metadata": {
        "id": "wcMmpwbf2A4v"
      },
      "execution_count": null,
      "outputs": []
    },
    {
      "cell_type": "markdown",
      "source": [
        "### String Formatting"
      ],
      "metadata": {
        "id": "wAGmWdgWHdGB"
      }
    },
    {
      "cell_type": "code",
      "source": [
        "fname = 'ishan'\n",
        "lname = 'chaurasia'\n",
        "lang = 'python'\n",
        "string = 'I am {} {} and learning {}.' .format(fname, lname, lang)\n",
        "print(string)\n",
        "\n",
        "num1, num2 = 5, 10\n",
        "\n",
        "print('{} + {} = {}' .format(num1, num2, num1 + num2))\n",
        "print('{} - {} = {}' .format(num2, num1, num2 - num1))\n",
        "print('{} * {} = {}' .format(num1, num2, num1 * num2))\n",
        "print('{} / {} = {}' .format(num2, num1, num2 / num1))"
      ],
      "metadata": {
        "id": "OGUtm49JHZ4I"
      },
      "execution_count": null,
      "outputs": []
    },
    {
      "cell_type": "markdown",
      "source": [
        "### Python Strings as Sequences of Characters\n",
        "\n",
        "Python strings are sequnces of characters and share their basic methods of access with other Python ordered sequences of objects - list and tuples."
      ],
      "metadata": {
        "id": "tCG8-DTa4Wxs"
      }
    },
    {
      "cell_type": "code",
      "source": [
        "# Unpacking Characters\n",
        "\n",
        "country = 'Russia'\n",
        "a, b, c, d, e, f = country\n",
        "print(a)\n",
        "print(b)\n",
        "print(c)\n",
        "print(d)\n",
        "print(e)\n",
        "print(f)"
      ],
      "metadata": {
        "id": "qpz3eu6oIpNp"
      },
      "execution_count": null,
      "outputs": []
    },
    {
      "cell_type": "code",
      "source": [
        "# Accessing Characters using Strings by Index\n",
        "\n",
        "country = 'Norway'\n",
        "first_letter = country[0]\n",
        "print(first_letter)\n",
        "second_letter = country[1]\n",
        "print(second_letter)\n",
        "third_letter = country[2]\n",
        "print(third_letter)\n",
        "fourth_letter = country[3]\n",
        "print(fourth_letter)\n",
        "fifth_letter = country[4]\n",
        "print(fifth_letter)\n",
        "sixth_letter = country[5]\n",
        "print(sixth_letter)"
      ],
      "metadata": {
        "id": "5QEcg0fy5Fs1"
      },
      "execution_count": null,
      "outputs": []
    },
    {
      "cell_type": "code",
      "source": [
        "# Slicing Python Strings\n",
        "\n",
        "fruit = 'watermelon'\n",
        "\n",
        "first_three = fruit[0:3]\n",
        "print(first_three)\n",
        "last_three = fruit[-3:]\n",
        "print(last_three)"
      ],
      "metadata": {
        "id": "NHg0BVn_5r3x"
      },
      "execution_count": null,
      "outputs": []
    },
    {
      "cell_type": "code",
      "source": [
        "# Reversing a String\n",
        "\n",
        "fruit = 'kiwi'\n",
        "print(fruit[::-1])"
      ],
      "metadata": {
        "id": "d_rqmg8x-mc3"
      },
      "execution_count": null,
      "outputs": []
    },
    {
      "cell_type": "markdown",
      "source": [
        "### String  Methods"
      ],
      "metadata": {
        "id": "Y1RMP8vwA3I2"
      }
    },
    {
      "cell_type": "code",
      "source": [
        "# capitalize(): Converts the first character of the string to capital letter\n",
        "\n",
        "str = 'this is my python practice.'\n",
        "print(str.capitalize())"
      ],
      "metadata": {
        "colab": {
          "base_uri": "https://localhost:8080/"
        },
        "id": "Lrvm63JuAgff",
        "outputId": "0e13f730-c6bd-49e7-da5f-ffa879bb30fc"
      },
      "execution_count": null,
      "outputs": [
        {
          "output_type": "stream",
          "name": "stdout",
          "text": [
            "This is my python practice.\n"
          ]
        }
      ]
    },
    {
      "cell_type": "code",
      "source": [
        "# count(): returns the occurences of substring in a string.\n",
        "\n",
        "print(str.count('i'))\n",
        "print(str.count('y', 9, 11))    #first num indicates starting position and the last denotes the end position.\n",
        "print(str.count('is'))"
      ],
      "metadata": {
        "id": "kMo724SlBY3P"
      },
      "execution_count": null,
      "outputs": []
    },
    {
      "cell_type": "code",
      "source": [
        "# endswith(): checks if a string ends with a specified ending. (returns true or false)\n",
        "\n",
        "print(str.endswith('ce.'))\n",
        "print(str.endswith('ce'))"
      ],
      "metadata": {
        "id": "MxsGtOEYBumi"
      },
      "execution_count": null,
      "outputs": []
    },
    {
      "cell_type": "code",
      "source": [
        "# format(): formats input into a nicer output\n",
        "\n",
        "f_name = 'Ishan'\n",
        "l_name = 'Chaurasia'\n",
        "age = 28\n",
        "job = 'Data Analyst'\n",
        "country = 'India'\n",
        "sentence = 'I am {} {} aged {}. I live in {}. By Profession, I am {}.'.format(f_name, l_name, age, country, job)\n",
        "print(sentence)"
      ],
      "metadata": {
        "id": "VNHo9He5IZQC"
      },
      "execution_count": null,
      "outputs": []
    },
    {
      "cell_type": "code",
      "source": [
        "# isalnum(): checks alphanumeric character\n",
        "\n",
        "print(str.isalnum())\n",
        "str1 = 'Day04ofPython'    # False, is not an alphanumeric character\n",
        "print(str1.isalnum())"
      ],
      "metadata": {
        "id": "5BxgfwNbL1c-"
      },
      "execution_count": null,
      "outputs": []
    },
    {
      "cell_type": "code",
      "source": [
        "# isalpha(): checks if all string elements are alphabet character\n",
        "\n",
        "string = 'DayFourOfPython'\n",
        "print(string.isalpha())\n",
        "string1 = 'Day Four of Python'\n",
        "print(string1.isalpha())"
      ],
      "metadata": {
        "id": "MQHDvMuQMMz6"
      },
      "execution_count": null,
      "outputs": []
    },
    {
      "cell_type": "code",
      "source": [
        "# isdecimal(): checks if all characters are in decimal\n",
        "\n",
        "num1 = '2558725'\n",
        "num2 = '255tsg89'\n",
        "print(num1.isdecimal())\n",
        "print(num2.isdecimal())"
      ],
      "metadata": {
        "id": "_YctKZaxNXyb"
      },
      "execution_count": null,
      "outputs": []
    },
    {
      "cell_type": "code",
      "source": [
        "# islower(): checks if all alphabet characters in lowercase\n",
        "\n",
        "str1 = 'Day 04 of Python'\n",
        "str2 = 'day 04 of python'\n",
        "print(str1.islower())\n",
        "print(str2.islower())"
      ],
      "metadata": {
        "id": "UQgGQJugOSe0"
      },
      "execution_count": null,
      "outputs": []
    },
    {
      "cell_type": "code",
      "source": [
        "# isupper(): checks if all alphabet characters in uppercase\n",
        "\n",
        "str1 = 'day 04 of python'\n",
        "str2 = 'DAY 04 OF PYTHON'\n",
        "print(str1.isupper())\n",
        "print(str2.isupper())"
      ],
      "metadata": {
        "id": "qhUGfGIBPFQc"
      },
      "execution_count": null,
      "outputs": []
    },
    {
      "cell_type": "code",
      "source": [
        "# join(): returns a concatenated string\n",
        "\n",
        "analyst = ['MS Excel', 'SQL', 'Python', 'Power BI']\n",
        "result = ' | '.join(analyst)\n",
        "print(result)"
      ],
      "metadata": {
        "id": "qSk5y_EhPbez"
      },
      "execution_count": null,
      "outputs": []
    },
    {
      "cell_type": "code",
      "source": [
        "# replace(): replace substring with a given string\n",
        "\n",
        "print(str1.replace('python', 'coding'))"
      ],
      "metadata": {
        "id": "0sJc-c2fQZuN"
      },
      "execution_count": null,
      "outputs": []
    },
    {
      "cell_type": "code",
      "source": [
        "# split(): splits the string into a given string or space\n",
        "\n",
        "print(str1.split())"
      ],
      "metadata": {
        "id": "QzEnJD5xQwfN"
      },
      "execution_count": null,
      "outputs": []
    },
    {
      "cell_type": "code",
      "source": [
        "# title(): returns a title cases string\n",
        "\n",
        "print(str.title())"
      ],
      "metadata": {
        "id": "wKb7FpQDRFsH"
      },
      "execution_count": null,
      "outputs": []
    },
    {
      "cell_type": "code",
      "source": [
        "# swapcase(): converts all uppercase to lowercase characters and vice-versa\n",
        "\n",
        "print(str1.swapcase())\n",
        "print(str2.swapcase())"
      ],
      "metadata": {
        "id": "kMG0MavcRYi9"
      },
      "execution_count": null,
      "outputs": []
    },
    {
      "cell_type": "code",
      "source": [
        "# startswith(): checks if a string starts with the specified string\n",
        "\n",
        "print(str1.startswith('day'))\n",
        "print(str2.startswith('python'))"
      ],
      "metadata": {
        "id": "T6NHfa8-RwKt"
      },
      "execution_count": null,
      "outputs": []
    },
    {
      "cell_type": "markdown",
      "source": [
        "______________________________________________________________________"
      ],
      "metadata": {
        "id": "mvV9AZWnSfwe"
      }
    },
    {
      "cell_type": "markdown",
      "source": [
        "### **Exercise**\n",
        "\n",
        "Q1. Concatenate the string 'Thirty', 'Days', 'Of', 'Python' to a single string, 'Thirty Days Of Python'.\n",
        "\n",
        "Q2. Change all the characters to uppercase letters using upper() method. Change all the characters to lowercase letters using lower() method.\n",
        "\n",
        "Q3. Use capitalize(), title(), swapcase() methods to format the value of the string 'Coding For All.'\n",
        "\n",
        "Q4. Change Python for Everyone to Python for All using the replace method.\n",
        "\n",
        "Q5. Make the following using string formatting methods:\n",
        "\n",
        "8 + 6 = 14\n",
        "\n",
        "8 - 6 = 2\n",
        "\n",
        "8 * 6 = 48\n",
        "\n",
        "8 / 6 = 1.33\n",
        "\n",
        "8 % 6 = 2\n",
        "\n",
        "8 // 6 = 1\n",
        "\n",
        "8 ** 6 = 262144"
      ],
      "metadata": {
        "id": "eXPP-s4GSl_z"
      }
    },
    {
      "cell_type": "code",
      "source": [
        "# Q1\n",
        "\n",
        "print('Thirty' + ' ' + 'Days' + ' ' + 'of' + ' ' + 'Python')"
      ],
      "metadata": {
        "id": "9gWSAe04fxov"
      },
      "execution_count": null,
      "outputs": []
    },
    {
      "cell_type": "code",
      "source": [
        "# Q2\n",
        "\n",
        "str = input('Enter Your Full Name: ')\n",
        "print(str.upper())\n",
        "print(str.lower())"
      ],
      "metadata": {
        "id": "VH1Lq7HAgaAf"
      },
      "execution_count": null,
      "outputs": []
    },
    {
      "cell_type": "code",
      "source": [
        "# Q3\n",
        "\n",
        "str = 'Coding For All'\n",
        "\n",
        "print(str.capitalize())\n",
        "print(str.title())\n",
        "print(str.swapcase())"
      ],
      "metadata": {
        "id": "qaQ8WvQthElI"
      },
      "execution_count": null,
      "outputs": []
    },
    {
      "cell_type": "code",
      "source": [
        "# Q4\n",
        "\n",
        "string = 'Python for Everyone'\n",
        "print(string.replace('Everyone', 'All'))"
      ],
      "metadata": {
        "id": "w-ri4PSVhnuM"
      },
      "execution_count": null,
      "outputs": []
    },
    {
      "cell_type": "code",
      "source": [
        "# Q5\n",
        "\n",
        "a = 8\n",
        "b = 6\n",
        "c = a + b\n",
        "d = a - b\n",
        "e = a * b\n",
        "f = a / b\n",
        "g = a % b\n",
        "h = a // b\n",
        "i = a ** b\n",
        "\n",
        "# Use the f-string method to print the data with placeholders\n",
        "print(f\"{a} + {b} = {c}\")\n",
        "print(f\"{a} - {b} = {d}\")\n",
        "print(f\"{a} * {b} = {e}\")\n",
        "print(f\"{a} / {b} = {f:.2f}\") # Use .2f to round to two decimal places\n",
        "print(f\"{a} % {b} = {g}\")\n",
        "print(f\"{a} // {b} = {h}\")\n",
        "print(f\"{a} ** {b} = {i}\")\n"
      ],
      "metadata": {
        "id": "KeG16bjSTujt"
      },
      "execution_count": null,
      "outputs": []
    }
  ]
}