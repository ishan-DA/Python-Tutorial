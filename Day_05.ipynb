{
  "nbformat": 4,
  "nbformat_minor": 0,
  "metadata": {
    "colab": {
      "provenance": [],
      "authorship_tag": "ABX9TyN433jgROoXhJhIiLRAlr1u",
      "include_colab_link": true
    },
    "kernelspec": {
      "name": "python3",
      "display_name": "Python 3"
    },
    "language_info": {
      "name": "python"
    }
  },
  "cells": [
    {
      "cell_type": "markdown",
      "metadata": {
        "id": "view-in-github",
        "colab_type": "text"
      },
      "source": [
        "<a href=\"https://colab.research.google.com/github/ishan-DA/Python-Tutorial/blob/main/Day_05.ipynb\" target=\"_parent\"><img src=\"https://colab.research.google.com/assets/colab-badge.svg\" alt=\"Open In Colab\"/></a>"
      ]
    },
    {
      "cell_type": "markdown",
      "source": [
        "## **Day 05 of Python**"
      ],
      "metadata": {
        "id": "-luEBO8cNcBL"
      }
    },
    {
      "cell_type": "markdown",
      "source": [
        "### **Lists**"
      ],
      "metadata": {
        "id": "84smuoHjHy6Z"
      }
    },
    {
      "cell_type": "markdown",
      "source": [
        "There are four collection data types in Python:\n",
        "\n",
        "* **List:** is a collection which is ordered and changeable.\n",
        "* **Tuple:** is a collection which is orderes and unchangeable. Allows duplicate members.\n",
        "* **Set:** is a collection which s unordered, unidexed and unmodifiable, but we can add new items to the set. Duplicates are not allowed.\n",
        "* **Dictionary:** is a collection which is orderes, changeable and indexed. No duplicate are allowed.\n",
        "\n",
        "**A list is a collection of different data types which is ordered and modifiable. A list can be empty or it may have different data types items.**\n"
      ],
      "metadata": {
        "id": "tbGyU6nyH5co"
      }
    },
    {
      "cell_type": "code",
      "source": [
        "# Syntax\n",
        "\n",
        "_list = []\n",
        "empty_list = []\n",
        "print(len(empty_list))"
      ],
      "metadata": {
        "id": "GVJeLHXmKL7v"
      },
      "execution_count": null,
      "outputs": []
    },
    {
      "cell_type": "code",
      "execution_count": null,
      "metadata": {
        "id": "5tZTbDTFG_dX"
      },
      "outputs": [],
      "source": [
        "fruits = ['banana', 'orange', 'mango', 'lemon']\n",
        "vegetables = ['Tomato', 'Potato', 'Cabbage','Onion', 'Carrot']\n",
        "animal_products = ['milk', 'meat', 'butter', 'yoghurt']\n",
        "web_techs = ['MS Excel', 'Power BI','R', 'Python', 'SQL']\n",
        "countries = ['UAE', 'Qatar', 'Jordan', 'Lebanon', 'Bahrain']\n",
        "\n",
        "# Print the lists and its length\n",
        "print('Fruits:', fruits)\n",
        "print('Number of fruits:', len(fruits))\n",
        "print('Vegetables:', vegetables)\n",
        "print('Number of vegetables:', len(vegetables))\n",
        "print('Animal products:',animal_products)\n",
        "print('Number of animal products:', len(animal_products))\n",
        "print('Web technologies:', web_techs)\n",
        "print('Number of web technologies:', len(web_techs))\n",
        "print('Countries:', countries)\n",
        "print('Number of countries:', len(countries))"
      ]
    },
    {
      "cell_type": "code",
      "source": [
        "# list having different data types\n",
        "\n",
        "data = ['Ishan Chaurasia', 28, {'Country' : 'India', 'City' : 'New Delhi'}]\n",
        "print(data)"
      ],
      "metadata": {
        "id": "KjXSvR6SKweM"
      },
      "execution_count": null,
      "outputs": []
    },
    {
      "cell_type": "code",
      "source": [
        "# list items using index\n",
        "\n",
        "fruits = ['banana', 'kiwi', 'mango', 'apple', 'guava', 'orange']\n",
        "print(fruits[3])    # prints the 4th item from the list. indexing starts with 0.\n",
        "print(fruits[5])\n",
        "\n",
        "print(fruits[-5])   # prints the 5th item from the last of the list. negative index starts with -1.\n",
        "print(fruits[-6])"
      ],
      "metadata": {
        "id": "rst97MULLQFE"
      },
      "execution_count": null,
      "outputs": []
    },
    {
      "cell_type": "code",
      "source": [
        "# unpacking the list items\n",
        "\n",
        "countries = ['Germany', 'France','Belgium','Sweden','Denmark','Finland','Norway','Iceland','Estonia']\n",
        "gr, fr, bg, sw, *scandic, es = countries\n",
        "print(gr)\n",
        "print(fr)\n",
        "print(bg)\n",
        "print(sw)\n",
        "print(scandic)\n",
        "print(es)"
      ],
      "metadata": {
        "id": "sPaYp25RNi_0"
      },
      "execution_count": null,
      "outputs": []
    },
    {
      "cell_type": "code",
      "source": [
        "# slicing item from the list\n",
        "\n",
        "print(fruits)\n",
        "print(fruits[1:])     # skips the first item from the list and goes till end\n",
        "print(fruits[1:4])    # skips the first item and goes till the index 3\n",
        "print(fruits[::3])    # it will give every 3rd item\n",
        "\n",
        "print(fruits[-6:])    # returns all items from the list\n",
        "print(fruits[-3:-1])\n",
        "print(fruits[::-1])   # reverses the list\n",
        "print(fruits[::-2])   # reverse the list and skips one item."
      ],
      "metadata": {
        "id": "I9kZf_4xPB9v"
      },
      "execution_count": null,
      "outputs": []
    },
    {
      "cell_type": "code",
      "source": [
        "# modifying a list\n",
        "\n",
        "color = ['red', 'blue', 'yellow']\n",
        "color[0] = 'green'                  # replacing green to red.\n",
        "print(color)\n",
        "color[1] = 'black'\n",
        "print(color)"
      ],
      "metadata": {
        "id": "IFVkiCRtS06z"
      },
      "execution_count": null,
      "outputs": []
    },
    {
      "cell_type": "code",
      "source": [
        "# checking items in a list\n",
        "\n",
        "color = ['red', 'yellow', 'blue', 'brown']\n",
        "exist = 'red' in color\n",
        "print(exist)\n",
        "exist = 'orange' in color\n",
        "print(exist)"
      ],
      "metadata": {
        "id": "yy8dUZMSYv0e"
      },
      "execution_count": null,
      "outputs": []
    },
    {
      "cell_type": "code",
      "source": [
        "# adding items to a list\n",
        "\n",
        "color = ['red', 'yellow', 'blue', 'brown']\n",
        "color.append('green')\n",
        "color.append('pink')\n",
        "print(color)"
      ],
      "metadata": {
        "id": "Ay4EaTaQYEgy"
      },
      "execution_count": null,
      "outputs": []
    },
    {
      "cell_type": "code",
      "source": [
        "# inserting item into a list\n",
        "\n",
        "color = ['red', 'yellow', 'blue', 'brown']\n",
        "color.insert(3, 'magenta')      # inserts to 4th index column\n",
        "print(color)"
      ],
      "metadata": {
        "id": "fl1eVUyTZsyI"
      },
      "execution_count": null,
      "outputs": []
    },
    {
      "cell_type": "code",
      "source": [
        "# removing items from a list\n",
        "\n",
        "color = ['red', 'yellow', 'blue', 'brown']\n",
        "color.remove('brown')\n",
        "color.remove('yellow')\n",
        "print(color)"
      ],
      "metadata": {
        "id": "5-uyZaPIaNkW"
      },
      "execution_count": null,
      "outputs": []
    },
    {
      "cell_type": "code",
      "source": [
        "# removing items using pop\n",
        "\n",
        "color = ['red', 'yellow', 'blue', 'brown']\n",
        "color.pop()     # removes the last item\n",
        "color.pop(2)    # removes the given index item\n",
        "print(color)"
      ],
      "metadata": {
        "id": "9sAt6-jGajM2"
      },
      "execution_count": null,
      "outputs": []
    },
    {
      "cell_type": "code",
      "source": [
        "# removing items using del\n",
        "\n",
        "color = ['red', 'yellow', 'blue', 'brown', 'pink']\n",
        "del color[0]          # deletes the 0 index item\n",
        "del color[1:3]        # deletes the items between given indexes leaving the index 3\n",
        "print(color)\n",
        "del color             # deletes the list"
      ],
      "metadata": {
        "id": "2nzympg9e7Qx"
      },
      "execution_count": null,
      "outputs": []
    },
    {
      "cell_type": "code",
      "source": [
        "# clearing the list items\n",
        "\n",
        "color = ['red', 'yellow', 'blue', 'brown', 'pink']\n",
        "color.clear()\n",
        "print(color)"
      ],
      "metadata": {
        "id": "7lMamQ-_rutm"
      },
      "execution_count": null,
      "outputs": []
    },
    {
      "cell_type": "code",
      "source": [
        "# copying a list\n",
        "\n",
        "color = ['red', 'yellow', 'blue', 'brown', 'pink']\n",
        "color_copy = color.copy()\n",
        "print(color_copy)"
      ],
      "metadata": {
        "id": "XoJUx3Tys7sr"
      },
      "execution_count": null,
      "outputs": []
    },
    {
      "cell_type": "code",
      "source": [
        "# joining a list (+)\n",
        "\n",
        "num1 = [2.0, 4.0, 6.0, 8.0, 10.0]\n",
        "num2 = [1, 3, 5, 7, 9]\n",
        "join = num1 + num2\n",
        "print(join)\n",
        "\n",
        "color1 = ['blue', 'black', 'red']\n",
        "color2 = ['green', 'yellow', 'pink']\n",
        "print(color1 + color2)"
      ],
      "metadata": {
        "id": "LDNz9wfkQEC1"
      },
      "execution_count": null,
      "outputs": []
    },
    {
      "cell_type": "code",
      "source": [
        "# extending a list\n",
        "\n",
        "num1 = [1, 2, 3, 4]\n",
        "num2 = [5, 6, 7, 8]\n",
        "num3 = [0]\n",
        "num3.extend(num1)\n",
        "num3.extend(num2)\n",
        "print(num3)\n",
        "\n",
        "fname = ['ishan']\n",
        "lname = ['chaurasia']\n",
        "fname.extend(lname)\n",
        "print(fname)"
      ],
      "metadata": {
        "id": "g-Y9DWJeQdeW"
      },
      "execution_count": null,
      "outputs": []
    },
    {
      "cell_type": "code",
      "source": [
        "# counting of occurence of items in a list\n",
        "\n",
        "color = ['red', 'brown', 'blue', 'brown', 'pink']\n",
        "color.count('brown')"
      ],
      "metadata": {
        "id": "rf-wSVtBRVhS"
      },
      "execution_count": null,
      "outputs": []
    },
    {
      "cell_type": "code",
      "source": [
        "# finding index of an item\n",
        "\n",
        "color = ['red', 'yellow', 'blue', 'brown', 'pink']\n",
        "color.index('yellow')"
      ],
      "metadata": {
        "id": "lCJuduZPS_gn"
      },
      "execution_count": null,
      "outputs": []
    },
    {
      "cell_type": "code",
      "source": [
        "# reversing an index\n",
        "\n",
        "num1 = [1, 2, 3, 4, 5]\n",
        "num1.reverse()\n",
        "print(num1)"
      ],
      "metadata": {
        "id": "QC3ywXZPTVER"
      },
      "execution_count": null,
      "outputs": []
    },
    {
      "cell_type": "code",
      "source": [
        "# sorting list items\n",
        "\n",
        "color = ['red', 'yellow', 'blue', 'brown', 'pink']\n",
        "color.sort()\n",
        "print(color)\n",
        "color.sort(reverse = True)\n",
        "print(color)"
      ],
      "metadata": {
        "id": "y13TGuHiSq-2"
      },
      "execution_count": null,
      "outputs": []
    },
    {
      "cell_type": "code",
      "source": [
        "color = ['red', 'yellow', 'blue', 'brown', 'pink']\n",
        "print(sorted(color))\n",
        "color = sorted(color, reverse = True)\n",
        "print(color)"
      ],
      "metadata": {
        "id": "ZVYsJ2SuS_cI"
      },
      "execution_count": null,
      "outputs": []
    },
    {
      "cell_type": "markdown",
      "source": [
        "____________________________________________________________________________"
      ],
      "metadata": {
        "id": "j0DKXtq8UUzb"
      }
    },
    {
      "cell_type": "markdown",
      "source": [
        "### **Exercise**\n",
        "\n",
        "Q1. Declare an empty list.\n",
        "\n",
        "Q2. Declare a list variable named it_companies and assign initial values Meta, Google, Microsoft, Apple, IBM, Oracle, Amazon.\n",
        "\n",
        "Q3. Add an IT company to it_companies\n",
        "\n",
        "Q4. Slice out first 3 companies from the list.\n",
        "\n",
        "Q5. Reverse the list in descending order using reverse() method.\n",
        "\n",
        "Q6. Remove the last IT company from the list.\n",
        "\n",
        "Q7. Join the following list:\n",
        "\n",
        "front_end = ['HTML', 'CSS', 'JS', 'React', 'Redux']\n",
        "\n",
        "back_end = ['Node','Express', 'MongoDB']"
      ],
      "metadata": {
        "id": "JAfZ-hjnUZym"
      }
    },
    {
      "cell_type": "code",
      "source": [
        "# Q1\n",
        "\n",
        "_list = []"
      ],
      "metadata": {
        "id": "MtIjS83ITe8Q"
      },
      "execution_count": null,
      "outputs": []
    },
    {
      "cell_type": "code",
      "source": [
        "# Q2\n",
        "\n",
        "it_companies = ['Meta', 'Google', 'Microsoft','Apple', 'IBM','Oracle', 'Amazon']\n",
        "m, g, mi, a, i, o, am = it_companies"
      ],
      "metadata": {
        "id": "84ZcUw9iVf4C"
      },
      "execution_count": null,
      "outputs": []
    },
    {
      "cell_type": "code",
      "source": [
        "# Q3\n",
        "\n",
        "it_companies.append('TCS')\n",
        "print(it_companies)"
      ],
      "metadata": {
        "id": "FJNm45NNXLJh"
      },
      "execution_count": null,
      "outputs": []
    },
    {
      "cell_type": "code",
      "source": [
        "# Q4\n",
        "\n",
        "it_companies[3:]"
      ],
      "metadata": {
        "id": "DTL3GJ-2XaTJ"
      },
      "execution_count": null,
      "outputs": []
    },
    {
      "cell_type": "code",
      "source": [
        "# Q5\n",
        "\n",
        "it_companies.reverse()\n",
        "print(it_companies)"
      ],
      "metadata": {
        "id": "62cA3MepYENM"
      },
      "execution_count": null,
      "outputs": []
    },
    {
      "cell_type": "code",
      "source": [
        "# Q6\n",
        "\n",
        "it_companies.pop\n",
        "print(it_companies)"
      ],
      "metadata": {
        "colab": {
          "base_uri": "https://localhost:8080/"
        },
        "id": "DjM_TU8DaK5G",
        "outputId": "3714da30-5763-47e6-8543-a6338ad4820a"
      },
      "execution_count": null,
      "outputs": [
        {
          "output_type": "stream",
          "name": "stdout",
          "text": [
            "['Meta', 'Google', 'Microsoft', 'Apple', 'IBM', 'Oracle', 'Amazon']\n"
          ]
        }
      ]
    },
    {
      "cell_type": "code",
      "source": [
        "# Q7\n",
        "\n",
        "front_end = ['HTML', 'CSS', 'JS', 'React', 'Redux']\n",
        "back_end = ['Node','Express', 'MongoDB']\n",
        "full_stack = front_end + back_end\n",
        "print(full_stack)\n",
        "\n",
        "front_end.extend(back_end)        # with extend function\n",
        "print(front_end)"
      ],
      "metadata": {
        "colab": {
          "base_uri": "https://localhost:8080/"
        },
        "id": "BJdbaZqmiwkK",
        "outputId": "fd2d08a3-ad4c-40bb-f19a-e60e62c85cad"
      },
      "execution_count": null,
      "outputs": [
        {
          "output_type": "stream",
          "name": "stdout",
          "text": [
            "['HTML', 'CSS', 'JS', 'React', 'Redux', 'Node', 'Express', 'MongoDB']\n",
            "['HTML', 'CSS', 'JS', 'React', 'Redux', 'Node', 'Express', 'MongoDB']\n"
          ]
        }
      ]
    }
  ]
}