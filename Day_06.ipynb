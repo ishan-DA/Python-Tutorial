{
  "nbformat": 4,
  "nbformat_minor": 0,
  "metadata": {
    "colab": {
      "provenance": [],
      "authorship_tag": "ABX9TyPq8kYJfk2m+MKyDgfomLZQ",
      "include_colab_link": true
    },
    "kernelspec": {
      "name": "python3",
      "display_name": "Python 3"
    },
    "language_info": {
      "name": "python"
    }
  },
  "cells": [
    {
      "cell_type": "markdown",
      "metadata": {
        "id": "view-in-github",
        "colab_type": "text"
      },
      "source": [
        "<a href=\"https://colab.research.google.com/github/ishan-DA/Python-Tutorial/blob/main/Day_06.ipynb\" target=\"_parent\"><img src=\"https://colab.research.google.com/assets/colab-badge.svg\" alt=\"Open In Colab\"/></a>"
      ]
    },
    {
      "cell_type": "markdown",
      "source": [
        "### **Tuples**\n",
        "\n",
        "A tuple is a collection of different data types which is ordered and unchangeable. Tuples are written with round brackets (). We cannot use add, insert and remove methods in a tuple becaues it is not modifiable. Unlike list, tuple has few methods:\n",
        "\n",
        "* tuple(): to create an empty tuple\n",
        "* count(): to count the number of a specified item in a tuple\n",
        "* index(): to find the index of a specified item in a tuple"
      ],
      "metadata": {
        "id": "e-hO7kj2rhL-"
      }
    },
    {
      "cell_type": "code",
      "execution_count": null,
      "metadata": {
        "id": "f4gwjDmXDgN9"
      },
      "outputs": [],
      "source": [
        "# creating an empty tuple\n",
        "\n",
        "_tuple1 = ()\n",
        "_tuple2 = tuple()     # using the tuple constructor"
      ]
    },
    {
      "cell_type": "code",
      "source": [
        "# giving values to tuple\n",
        "\n",
        "fruits = ('apple', 'banana', 'mango', 'guava')"
      ],
      "metadata": {
        "id": "MPLIwah-swhV"
      },
      "execution_count": null,
      "outputs": []
    },
    {
      "cell_type": "code",
      "source": [
        "# checking length of tuple\n",
        "\n",
        "len(fruits)"
      ],
      "metadata": {
        "id": "Ex2HiB1YugnM"
      },
      "execution_count": null,
      "outputs": []
    },
    {
      "cell_type": "code",
      "source": [
        "# accessing the tuples\n",
        "\n",
        "fruits = ('apple', 'banana', 'mango', 'guava', 'orange')\n",
        "fruits[3]\n",
        "\n",
        "index = len(fruits) - 1     # substract 1 from the length of tuple\n",
        "print(index)\n",
        "\n",
        "f_item = fruits[-4]       # gives the 4th index item from the end\n",
        "print(f_item)"
      ],
      "metadata": {
        "id": "HxgAy3ewunV5"
      },
      "execution_count": null,
      "outputs": []
    },
    {
      "cell_type": "code",
      "source": [
        "# slicing tuples\n",
        "\n",
        "fruits = ('apple', 'banana', 'mango', 'guava', 'orange')\n",
        "fruits[1:]         # skips the first index position goes till end\n",
        "fruits[0:4]        # returns till the 4th position\n",
        "fruits[1:4]        # doesn't include item at index 4\n",
        "\n",
        "fruits[::-1]       # reverses the tuple\n",
        "fruits[-4:-1]      # exclude last and first items"
      ],
      "metadata": {
        "id": "tU6VtleJvTXb"
      },
      "execution_count": null,
      "outputs": []
    },
    {
      "cell_type": "code",
      "source": [
        "# changing tuples to list\n",
        "\n",
        "fruits = ('apple', 'banana', 'mango', 'guava', 'orange')\n",
        "fruits = list(fruits)         # changed to List\n",
        "fruits[2]\n",
        "print(fruits)\n",
        "fruits = tuple(fruits)        # back to tuple from list\n",
        "print(fruits)"
      ],
      "metadata": {
        "id": "P2XaWe-s5uFk"
      },
      "execution_count": null,
      "outputs": []
    },
    {
      "cell_type": "code",
      "source": [
        "# checking an item in a tuple\n",
        "\n",
        "fruits = ('apple', 'banana', 'mango', 'guava', 'orange')\n",
        "print('banana' in fruits)\n",
        "print('apple' not in fruits)"
      ],
      "metadata": {
        "id": "kSFasrlY6rtW"
      },
      "execution_count": null,
      "outputs": []
    },
    {
      "cell_type": "code",
      "source": [
        "# joining tuples\n",
        "\n",
        "num1 = (1, 2, 3, 4, 5)\n",
        "num2 = (6, 7, 8, 9, 10)\n",
        "final = num1 + num2\n",
        "print(final)"
      ],
      "metadata": {
        "id": "VT1pdUPN8T-L"
      },
      "execution_count": null,
      "outputs": []
    },
    {
      "cell_type": "code",
      "source": [
        "# deleting tuples\n",
        "\n",
        "del final"
      ],
      "metadata": {
        "id": "26Zhrdue9HSn"
      },
      "execution_count": null,
      "outputs": []
    },
    {
      "cell_type": "markdown",
      "source": [
        "__________________________________________________________________________"
      ],
      "metadata": {
        "id": "yCnl-p7RKy67"
      }
    },
    {
      "cell_type": "markdown",
      "source": [
        "### **Exercise**\n",
        "\n",
        "Q1. Join brothers and sisters tuples and assign it to siblings.\n",
        "\n",
        "Q2. Modify the siblings tuple and add the name of your father and mother and assign it to family_members.\n",
        "\n",
        "Q3. Create fruits, vegetables and animal products tuples. Join the three tuples and assign it to a variable called food_stuff_tp.\n",
        "\n",
        "Q4. Check if an item exist in tuple:\n",
        "\n",
        "* Check if 'Estonia' is a nordic country.\n",
        "\n",
        "* Check if 'Iceland' is a nordic country."
      ],
      "metadata": {
        "id": "MZ7KBOe4AydN"
      }
    },
    {
      "cell_type": "code",
      "source": [
        "# Q1\n",
        "\n",
        "brothers = ('Ram', 'Shyam')\n",
        "sisters = ('Sita', 'Gita')\n",
        "siblings = brothers + sisters\n",
        "print(siblings)"
      ],
      "metadata": {
        "id": "lH9Ljqe6Bkdi"
      },
      "execution_count": null,
      "outputs": []
    },
    {
      "cell_type": "code",
      "source": [
        "# Q2\n",
        "\n",
        "siblings = list(siblings)\n",
        "siblings.append('Ramesh')\n",
        "siblings.append('Rekha')\n",
        "siblings = tuple(siblings)\n",
        "family_members = siblings"
      ],
      "metadata": {
        "id": "kYBl67mCGHGi"
      },
      "execution_count": 18,
      "outputs": []
    },
    {
      "cell_type": "code",
      "source": [
        "# Q3\n",
        "\n",
        "fruits = ('banana', 'apple', 'guava')\n",
        "vegetables = ('potato', 'onion', 'cabbage')\n",
        "animal_products = ('meat', 'ham', 'sausage')\n",
        "food_stuff_tp = fruits + vegetables + animal_products\n",
        "print(food_stuff_tp)"
      ],
      "metadata": {
        "id": "Vp3oZqIcGHB4"
      },
      "execution_count": null,
      "outputs": []
    },
    {
      "cell_type": "code",
      "source": [
        "# Q4\n",
        "\n",
        "nordic_countries = ('Denmark', 'Finland','Iceland', 'Norway', 'Sweden')\n",
        "print('Estonia' in nordic_countries)\n",
        "print('Iceland' in nordic_countries)"
      ],
      "metadata": {
        "id": "RkVYEfpeKMp7"
      },
      "execution_count": null,
      "outputs": []
    }
  ]
}