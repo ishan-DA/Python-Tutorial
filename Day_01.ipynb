{
  "nbformat": 4,
  "nbformat_minor": 0,
  "metadata": {
    "colab": {
      "provenance": [],
      "include_colab_link": true
    },
    "kernelspec": {
      "name": "python3",
      "display_name": "Python 3"
    },
    "language_info": {
      "name": "python"
    }
  },
  "cells": [
    {
      "cell_type": "markdown",
      "metadata": {
        "id": "view-in-github",
        "colab_type": "text"
      },
      "source": [
        "<a href=\"https://colab.research.google.com/github/ishan-DA/Python-Tutorial/blob/main/Day_01.ipynb\" target=\"_parent\"><img src=\"https://colab.research.google.com/assets/colab-badge.svg\" alt=\"Open In Colab\"/></a>"
      ]
    },
    {
      "cell_type": "markdown",
      "source": [
        "## **Day 01 of Python**"
      ],
      "metadata": {
        "id": "SFVXwqT5QLJA"
      }
    },
    {
      "cell_type": "markdown",
      "source": [
        "### Python Syntax:\n",
        "A python script can be written in Pyhton shell or in the code editor. A python file has an extension '.py'."
      ],
      "metadata": {
        "id": "fq_Mtnvok9zM"
      }
    },
    {
      "cell_type": "markdown",
      "source": [
        "### Python Indentation:\n",
        "An indentation is a blank space. Indentation increases code readability. Python uses indentation to create a block of code."
      ],
      "metadata": {
        "id": "YtijgPeLlROA"
      }
    },
    {
      "cell_type": "markdown",
      "source": [
        "### Comments:\n",
        "Comments are very important to make code readable and to leave remarks in our code. Python does not run comment parts of our code. Any text starting with (#) in Python is comment."
      ],
      "metadata": {
        "id": "ypf0it-YlzvT"
      }
    },
    {
      "cell_type": "code",
      "source": [
        "# This is a comment.\n",
        "# This is also a comment.\n",
        "\n",
        "\"\"\"This is multiline comment\n",
        "multiline comment takes multiple lines.\n",
        "\"\"\""
      ],
      "metadata": {
        "id": "XLHjJtgEmFq_"
      },
      "execution_count": null,
      "outputs": []
    },
    {
      "cell_type": "markdown",
      "source": [
        "### **Data types**\n",
        "\n",
        "In Python there are several types of data types. Let us get started with the most common ones."
      ],
      "metadata": {
        "id": "L1-pjihBWM4g"
      }
    },
    {
      "cell_type": "markdown",
      "source": [
        "### Number:\n"
      ],
      "metadata": {
        "id": "Vwm5Z0uuYmCn"
      }
    },
    {
      "cell_type": "code",
      "source": [
        "# Integer = -3, -2, -1, 0, 1, 2, 3\n",
        "# Float = -4.8, -3.2, -1.6, 0, 1.6, 3.2, -4.8\n",
        "# Complex = 1j, 4 + a"
      ],
      "metadata": {
        "id": "cT3WAenYWiVx"
      },
      "execution_count": null,
      "outputs": []
    },
    {
      "cell_type": "markdown",
      "source": [
        "### String:\n",
        "A collection of one or more characters under a single or double quote. If a string is more than one sentence then we use a triple quote."
      ],
      "metadata": {
        "id": "hmLpN-gwYaQL"
      }
    },
    {
      "cell_type": "code",
      "source": [
        "'Ishan'\n",
        "'Chaurasia'\n",
        "'India'\n",
        "'Python'"
      ],
      "metadata": {
        "id": "yrdIZxUQVwCq"
      },
      "execution_count": null,
      "outputs": []
    },
    {
      "cell_type": "markdown",
      "source": [
        "### Booleans:\n",
        "Python list is an ordered collection which allows to store different data type items"
      ],
      "metadata": {
        "id": "SMXF7ZoDYCYH"
      }
    },
    {
      "cell_type": "code",
      "source": [
        "True  #  Is the light on? If it is on, then the value is True\n",
        "False # Is the light on? If it is off, then the value is False"
      ],
      "metadata": {
        "id": "TGQDUVUOVcf8"
      },
      "execution_count": null,
      "outputs": []
    },
    {
      "cell_type": "markdown",
      "source": [
        "### List:\n",
        "Python list is an ordered collection which allows to store different data type items"
      ],
      "metadata": {
        "id": "Edkow2KFXxiF"
      }
    },
    {
      "cell_type": "code",
      "source": [
        "[10, 11, 12, 13, 14, 15]  # all are the same data types (int)\n",
        "['Mango', 'Apple', 'Guava', 'Kiwi'] # all the same data types (string)\n",
        "[1.2, 2.4, 3.6, 4.8, 6.0 ] # all the same data types (float)\n",
        "['Banana', 10, False, 9.81] # different data types in the list - string, integer, boolean and float"
      ],
      "metadata": {
        "id": "NMkDKhQXUbr5"
      },
      "execution_count": null,
      "outputs": []
    },
    {
      "cell_type": "markdown",
      "source": [
        "### Dictionary:\n",
        "A Python dictionary object is an unordered collection of data in a key value pair format."
      ],
      "metadata": {
        "id": "PckfnzzPYMFc"
      }
    },
    {
      "cell_type": "code",
      "source": [
        "{\n",
        "'first_name':'Ishan',\n",
        "'last_name':'Chaurasia',\n",
        "'country':'India',\n",
        "'age':28,\n",
        "'is_married':False,\n",
        "'skills':['MS Excel', 'SQL',  'Power BI', 'Python']\n",
        "}"
      ],
      "metadata": {
        "id": "cm9vIdBUSwe5"
      },
      "execution_count": null,
      "outputs": []
    },
    {
      "cell_type": "markdown",
      "source": [
        "### Tuple:\n",
        "A tuple is an ordered collection of different data types like list but tuples can not be modified once they are created."
      ],
      "metadata": {
        "id": "2m_4DEkdYx0u"
      }
    },
    {
      "cell_type": "code",
      "source": [
        "('Ishan', 'Ayush', 'Vaishali', 'Anshu','Aastha')"
      ],
      "metadata": {
        "id": "6qJaML2TZASY"
      },
      "execution_count": null,
      "outputs": []
    },
    {
      "cell_type": "markdown",
      "source": [
        "### Set:\n",
        "A set is a collection of data types similar to list and tuple. Set is not an ordered collection of items."
      ],
      "metadata": {
        "id": "ZZNTBEoVZdz7"
      }
    },
    {
      "cell_type": "code",
      "source": [
        "{2, 4, 6, 8}\n",
        "{1.3, 2.6, 3.9}"
      ],
      "metadata": {
        "id": "AE3ZvHwPZsfM"
      },
      "execution_count": null,
      "outputs": []
    },
    {
      "cell_type": "markdown",
      "source": [
        "### Checking Data Types:\n",
        "The **type** function is used to check the datatype of certain variable."
      ],
      "metadata": {
        "id": "3kjpcgSbaEHg"
      }
    },
    {
      "cell_type": "code",
      "source": [
        "type(19)                        # Int\n",
        "type(200.58)                    # Float\n",
        "type(5j + 1)                    # Complex\n",
        "type('Ishan')                   # String\n",
        "type(True)                      # Boolean\n",
        "type([2, 3, 5, 7, 9])           # List\n",
        "type({'fname' : 'Ishan'})       # Dictionary\n",
        "type((3, 6, 9, 12))             # Tuple\n",
        "type({2.5, 7.5, 5.0})           # Set"
      ],
      "metadata": {
        "id": "PPDDeKS1aDqG"
      },
      "execution_count": null,
      "outputs": []
    },
    {
      "cell_type": "markdown",
      "source": [
        "__________________________________________________________________________"
      ],
      "metadata": {
        "id": "qUtdgK9Pc6Ss"
      }
    },
    {
      "cell_type": "markdown",
      "source": [
        "## **Exercise:**\n",
        "\n",
        "Q1. Write an example for different Python data types such as Number(Integer, Float, Complex), String, Boolean, List, Tuple, Set and Dictionary.\n",
        "\n",
        "Q2. Find an Euclidian distance between (2, 3) and (10, 8)"
      ],
      "metadata": {
        "id": "M0gKaLBKc_9I"
      }
    },
    {
      "cell_type": "code",
      "source": [
        "# Q1.\n",
        "\n",
        "print(type(20))\n",
        "print(type(19.99))\n",
        "print(type(7j + 4))\n",
        "print(type('This is Python Exercise'))\n",
        "print(type(True))\n",
        "print(type([9, 'Nine']))\n",
        "print(type({'Fruit' : 'Mango'}))\n",
        "print(type((1, 2, 3, 4, 5)))\n",
        "print(type({2.2, 4.6, 1.9}))"
      ],
      "metadata": {
        "colab": {
          "base_uri": "https://localhost:8080/"
        },
        "id": "0sD92Reqc-Vo",
        "outputId": "94cf3c1a-c0de-46e1-c048-223588ba1bbf"
      },
      "execution_count": null,
      "outputs": [
        {
          "output_type": "stream",
          "name": "stdout",
          "text": [
            "<class 'int'>\n",
            "<class 'float'>\n",
            "<class 'complex'>\n",
            "<class 'str'>\n",
            "<class 'bool'>\n",
            "<class 'list'>\n",
            "<class 'dict'>\n",
            "<class 'tuple'>\n",
            "<class 'set'>\n"
          ]
        }
      ]
    },
    {
      "cell_type": "code",
      "source": [
        "# Q2.\n",
        "\n",
        "point1 = (2, 3)\n",
        "point2 = (10, 8)\n",
        "\n",
        "distance = ((point1[0] - point2[0]) ** 2 + (point1[1] - point2[1]) **2)\n",
        "root = round(distance ** 0.5, 2)\n",
        "print(f\"The Eculidian Distance between {point1} and {point2} is {root}.\")"
      ],
      "metadata": {
        "colab": {
          "base_uri": "https://localhost:8080/"
        },
        "id": "oIY-Iuz9e4RD",
        "outputId": "fe3467f1-ce8e-4888-e41c-5f47653a2c61"
      },
      "execution_count": null,
      "outputs": [
        {
          "output_type": "stream",
          "name": "stdout",
          "text": [
            "The Eculidian Distance between (2, 3) and (10, 8) is 9.43.\n"
          ]
        }
      ]
    }
  ]
}